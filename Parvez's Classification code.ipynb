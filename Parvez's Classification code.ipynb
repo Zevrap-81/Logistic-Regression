{
 "cells": [
  {
   "cell_type": "code",
   "execution_count": 3,
   "metadata": {},
   "outputs": [],
   "source": [
    "import torch\n",
    "import torchvision\n",
    "from torchvision.datasets import MNIST, CIFAR10\n",
    "import numpy as np\n",
    "import matplotlib.pyplot as plt\n",
    "%matplotlib inline\n",
    "import torchvision.transforms as transforms\n",
    "from torch.utils.data.dataloader import DataLoader\n",
    "from torch.utils.data.sampler import SubsetRandomSampler\n",
    "import torch.nn as nn"
   ]
  },
  {
   "cell_type": "code",
   "execution_count": 2,
   "metadata": {},
   "outputs": [
    {
     "data": {
      "text/plain": [
       "60000"
      ]
     },
     "execution_count": 2,
     "metadata": {},
     "output_type": "execute_result"
    }
   ],
   "source": [
    "dataset= MNIST('data/', \n",
    "                     train=True, \n",
    "                     transform= transforms.ToTensor())\n",
    "len(dataset)"
   ]
  },
  {
   "cell_type": "code",
   "execution_count": 3,
   "metadata": {},
   "outputs": [
    {
     "data": {
      "text/plain": [
       "10000"
      ]
     },
     "execution_count": 3,
     "metadata": {},
     "output_type": "execute_result"
    }
   ],
   "source": [
    "test_dataset= MNIST('data/', \n",
    "                    train=False, \n",
    "                    transform= transforms.ToTensor())\n",
    "len(test_dataset)"
   ]
  },
  {
   "cell_type": "code",
   "execution_count": 6,
   "metadata": {},
   "outputs": [
    {
     "name": "stdout",
     "output_type": "stream",
     "text": [
      "Files already downloaded and verified\n"
     ]
    },
    {
     "data": {
      "text/plain": [
       "50000"
      ]
     },
     "execution_count": 6,
     "metadata": {},
     "output_type": "execute_result"
    }
   ],
   "source": [
    "dataset2= CIFAR10('data/', \n",
    "                    train=True, download=True,\n",
    "                    transform= transforms.ToTensor())\n",
    "len(dataset2)"
   ]
  },
  {
   "cell_type": "code",
   "execution_count": 16,
   "metadata": {},
   "outputs": [
    {
     "data": {
      "text/plain": [
       "<matplotlib.image.AxesImage at 0x129c99640>"
      ]
     },
     "execution_count": 16,
     "metadata": {},
     "output_type": "execute_result"
    },
    {
     "data": {
      "image/png": "[encoded data removed]",
      "text/plain": [
       "<Figure size 432x288 with 1 Axes>"
      ]
     },
     "metadata": {
      "needs_background": "light"
     },
     "output_type": "display_data"
    }
   ],
   "source": [
    "plt.imshow(dataset2[30003][0][0], cmap='gray')"
   ]
  },
  {
   "cell_type": "code",
   "execution_count": 5,
   "metadata": {},
   "outputs": [],
   "source": [
    "def split_indices(n, val_split):\n",
    "    n_split= int(n*val_split)\n",
    "    indx= np.random.permutation(n)\n",
    "    return indx[n_split:], indx[:n_split]\n",
    "\n",
    "\n",
    "train_indx, val_indx= split_indices(len(dataset), 0.4)\n",
    "\n",
    "train_loader= DataLoader(dataset,\n",
    "                          batch_size=100,  \n",
    "                          sampler= SubsetRandomSampler(train_indx)\n",
    "                         )\n",
    "\n",
    "val_loader= DataLoader(dataset,\n",
    "                       batch_size=100,\n",
    "                       sampler= SubsetRandomSampler(val_indx)\n",
    "                       )"
   ]
  },
  {
   "cell_type": "code",
   "execution_count": 6,
   "metadata": {},
   "outputs": [],
   "source": [
    "from torch.utils.data import random_split\n",
    "\n",
    "train_dataset2, val_dataset2= random_split(dataset,[36000,24000])\n",
    "\n",
    "train_dataset2= DataLoader(train_dataset2, \n",
    "                           batch_size=100, \n",
    "                           shuffle=True)\n",
    "\n",
    "val_dataset2= DataLoader(val_dataset2, \n",
    "                         batch_size=100, \n",
    "                         shuffle=False)"
   ]
  },
  {
   "cell_type": "code",
   "execution_count": 7,
   "metadata": {},
   "outputs": [],
   "source": [
    "in_size= 28*28\n",
    "out_size= 10\n",
    "\n",
    "class Mymodule(nn.Module):\n",
    "    def __init__(self):\n",
    "        super().__init__()\n",
    "        self.linear= nn.Linear(in_size, out_size)\n",
    "    def forward(self, xb):\n",
    "        xb= xb.reshape(-1, in_size)\n",
    "        return self.linear(xb)\n",
    "    def batch_step(self, batch):\n",
    "        images, lables= batch\n",
    "        out= self.forward(images)\n",
    "        loss= nn.functional.cross_entropy(out, lables)\n",
    "        acc= accuracy(out, lables)\n",
    "        return {'loss': loss, 'acc': acc}\n",
    "\n",
    "\n",
    "def train_step(model, train_loader, opt):\n",
    "    results= []\n",
    "    for batch in train_loader:\n",
    "        result= model.batch_step(batch)\n",
    "        loss= result['loss']\n",
    "        loss.backward()\n",
    "        opt.step()\n",
    "        opt.zero_grad()\n",
    "        results.append(result)\n",
    "    return epoch_end(results)\n",
    "   \n",
    "def val_step(model, val_loader):\n",
    "    results= [model.batch_step(batch) for batch in val_loader]\n",
    "    return epoch_end(results)\n",
    "\n",
    "def epoch_end(results):\n",
    "    losses= [x['loss'] for x in results] \n",
    "    accs= [x['acc'] for x in results] \n",
    "    avg_loss= torch.stack(losses).mean()  \n",
    "    avg_acc= torch.stack(accs).mean()\n",
    "    return avg_loss, avg_acc\n",
    "\n",
    "def print_epoch(avg_result, epoch, data_type):\n",
    "    print(\"Epoch({}) {}_loss:{:.4f}, {}_acc:{:.4f}\".format(epoch+1, data_type, avg_result[0].item(), data_type, avg_result[1].item()))\n",
    "    \n",
    "\n",
    "def accuracy(out, lables):\n",
    "    pred=out.argmax(dim=1)\n",
    "    acc= torch.tensor(torch.sum(pred==lables).item()/len(out))\n",
    "    return acc\n",
    "\n",
    "def fit(model, train_loader, val_loader, epochs, optimizer=torch.optim.SGD, lr= 1e-3):\n",
    "    opt= optimizer(model.parameters(), lr)\n",
    "    history_train= []\n",
    "    history_val= []\n",
    "    for epoch in range(epochs):\n",
    "        # train step\n",
    "        avg_result= train_step(model, train_loader, opt)\n",
    "        print_epoch(avg_result, epoch, 'train')\n",
    "        history_train.append(avg_result) \n",
    "        #val step\n",
    "        avg_result= train_step(model, val_loader, opt)\n",
    "        print_epoch(avg_result, epoch, 'val')   \n",
    "        history_val.append(avg_result) \n",
    "    return history_train, history_val \n"
   ]
  },
  {
   "cell_type": "code",
   "execution_count": 8,
   "metadata": {},
   "outputs": [
    {
     "name": "stdout",
     "output_type": "stream",
     "text": [
      "Epoch(1) train_loss:2.1259, train_acc:0.3656\n",
      "Epoch(1) val_loss:1.8730, val_acc:0.6421\n",
      "Epoch(2) train_loss:1.6798, train_acc:0.7173\n",
      "Epoch(2) val_loss:1.5152, val_acc:0.7550\n",
      "Epoch(3) train_loss:1.3949, train_acc:0.7690\n",
      "Epoch(3) val_loss:1.2846, val_acc:0.7881\n",
      "Epoch(4) train_loss:1.2070, train_acc:0.7922\n",
      "Epoch(4) val_loss:1.1291, val_acc:0.8055\n",
      "Epoch(5) train_loss:1.0767, train_acc:0.8076\n",
      "Epoch(5) val_loss:1.0187, val_acc:0.8169\n",
      "Epoch(6) train_loss:0.9818, train_acc:0.8192\n",
      "Epoch(6) val_loss:0.9367, val_acc:0.8255\n",
      "Epoch(7) train_loss:0.9099, train_acc:0.8270\n",
      "Epoch(7) val_loss:0.8734, val_acc:0.8328\n",
      "Epoch(8) train_loss:0.8534, train_acc:0.8333\n",
      "Epoch(8) val_loss:0.8231, val_acc:0.8373\n",
      "Epoch(9) train_loss:0.8079, train_acc:0.8376\n",
      "Epoch(9) val_loss:0.7821, val_acc:0.8420\n",
      "Epoch(10) train_loss:0.7703, train_acc:0.8414\n",
      "Epoch(10) val_loss:0.7479, val_acc:0.8457\n"
     ]
    },
    {
     "data": {
      "text/plain": [
       "([(tensor(2.1259, grad_fn=<MeanBackward0>), tensor(0.3656)),\n",
       "  (tensor(1.6798, grad_fn=<MeanBackward0>), tensor(0.7173)),\n",
       "  (tensor(1.3949, grad_fn=<MeanBackward0>), tensor(0.7690)),\n",
       "  (tensor(1.2070, grad_fn=<MeanBackward0>), tensor(0.7922)),\n",
       "  (tensor(1.0767, grad_fn=<MeanBackward0>), tensor(0.8076)),\n",
       "  (tensor(0.9818, grad_fn=<MeanBackward0>), tensor(0.8192)),\n",
       "  (tensor(0.9099, grad_fn=<MeanBackward0>), tensor(0.8270)),\n",
       "  (tensor(0.8534, grad_fn=<MeanBackward0>), tensor(0.8333)),\n",
       "  (tensor(0.8079, grad_fn=<MeanBackward0>), tensor(0.8376)),\n",
       "  (tensor(0.7703, grad_fn=<MeanBackward0>), tensor(0.8414))],\n",
       " [(tensor(1.8730, grad_fn=<MeanBackward0>), tensor(0.6421)),\n",
       "  (tensor(1.5152, grad_fn=<MeanBackward0>), tensor(0.7550)),\n",
       "  (tensor(1.2846, grad_fn=<MeanBackward0>), tensor(0.7881)),\n",
       "  (tensor(1.1291, grad_fn=<MeanBackward0>), tensor(0.8055)),\n",
       "  (tensor(1.0187, grad_fn=<MeanBackward0>), tensor(0.8169)),\n",
       "  (tensor(0.9367, grad_fn=<MeanBackward0>), tensor(0.8255)),\n",
       "  (tensor(0.8734, grad_fn=<MeanBackward0>), tensor(0.8328)),\n",
       "  (tensor(0.8231, grad_fn=<MeanBackward0>), tensor(0.8373)),\n",
       "  (tensor(0.7821, grad_fn=<MeanBackward0>), tensor(0.8420)),\n",
       "  (tensor(0.7479, grad_fn=<MeanBackward0>), tensor(0.8457))])"
      ]
     },
     "execution_count": 8,
     "metadata": {},
     "output_type": "execute_result"
    }
   ],
   "source": [
    "model= Mymodule()\n",
    "optimizer= torch.optim.SGD\n",
    "fit(model,train_loader, val_loader, 10, optimizer, 1e-3)"
   ]
  },
  {
   "cell_type": "code",
   "execution_count": null,
   "metadata": {},
   "outputs": [],
   "source": []
  }
 ],
 "metadata": {
  "kernelspec": {
   "display_name": "Python 3",
   "language": "python",
   "name": "python3"
  },
  "language_info": {
   "codemirror_mode": {
    "name": "ipython",
    "version": 3
   },
   "file_extension": ".py",
   "mimetype": "text/x-python",
   "name": "python",
   "nbconvert_exporter": "python",
   "pygments_lexer": "ipython3",
   "version": "3.8.3"
  }
 },
 "nbformat": 4,
 "nbformat_minor": 4
}
